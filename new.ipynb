{
 "cells": [
  {
   "cell_type": "code",
   "execution_count": 53,
   "metadata": {},
   "outputs": [],
   "source": [
    "import pandas as pd"
   ]
  },
  {
   "cell_type": "code",
   "execution_count": 54,
   "metadata": {},
   "outputs": [],
   "source": [
    "dest = pd.read_excel(r\"C:\\Users\\jacob\\OneDrive\\Desktop\\Fall 2024\\Telling Stories\\housing_report\\report-data-2024\\Destinations_10.29.22-10.29.2024.xlsx\")\n"
   ]
  },
  {
   "cell_type": "code",
   "execution_count": 55,
   "metadata": {},
   "outputs": [
    {
     "name": "stdout",
     "output_type": "stream",
     "text": [
      "      HMIS ID  \\\n",
      "4      179138   \n",
      "6      162304   \n",
      "19     191061   \n",
      "25     184917   \n",
      "33     168173   \n",
      "...       ...   \n",
      "1892   171881   \n",
      "1893   170175   \n",
      "1900   181072   \n",
      "1902   162067   \n",
      "1909   185363   \n",
      "\n",
      "                                                                                            Entry/Exit Destination  \\\n",
      "4                                                                                                   Deceased (HUD)   \n",
      "6                                                                                                   Deceased (HUD)   \n",
      "19                                                                                                  Deceased (HUD)   \n",
      "25                                                                                                  Deceased (HUD)   \n",
      "33    Emergency shelter, including hotel or motel paid for with emergency shelter voucher, Host Home shelter (HUD)   \n",
      "...                                                                                                            ...   \n",
      "1892                                                      Substance abuse treatment facility or detox center (HUD)   \n",
      "1893                                                      Substance abuse treatment facility or detox center (HUD)   \n",
      "1900                                    Transitional housing for homeless persons (including homeless youth) (HUD)   \n",
      "1902                                    Transitional housing for homeless persons (including homeless youth) (HUD)   \n",
      "1909                                    Transitional housing for homeless persons (including homeless youth) (HUD)   \n",
      "\n",
      "     Entry Date  Exit Date  Days to Destination    Veteran Date of Birth  Age  \\\n",
      "4    2023-10-03 2024-07-19                  290   No (HUD)    1966-12-31   57   \n",
      "6    2024-01-26 2024-07-26                  182   No (HUD)    1988-01-05   36   \n",
      "19   2023-10-03 2024-05-01                  211   No (HUD)    1967-05-04   57   \n",
      "25   2023-11-05 2024-08-05                  274   No (HUD)    1958-12-06   65   \n",
      "33   2021-09-29 2023-09-30                  731   No (HUD)    1981-09-18   43   \n",
      "...         ...        ...                  ...        ...           ...  ...   \n",
      "1892 2022-10-03 2022-12-08                   66   No (HUD)    1960-10-04   64   \n",
      "1893 2024-04-09 2024-07-11                   93   No (HUD)    1967-01-26   57   \n",
      "1900 2024-06-03 2024-06-20                   17   No (HUD)    1979-04-09   45   \n",
      "1902 2023-09-12 2024-02-06                  147   No (HUD)    1970-03-28   54   \n",
      "1909 2024-01-01 2024-05-07                  127  Yes (HUD)    1960-10-08   64   \n",
      "\n",
      "     Household Type Pregnant                          Chronicity  \\\n",
      "4        Individual       No                            No (HUD)   \n",
      "6        Individual      NaN            Data not collected (HUD)   \n",
      "19           Family       No                            No (HUD)   \n",
      "25       Individual       No                            No (HUD)   \n",
      "33       Individual       No                            No (HUD)   \n",
      "...             ...      ...                                 ...   \n",
      "1892     Individual      NaN            Data not collected (HUD)   \n",
      "1893     Individual      NaN  Client prefers not to answer (HUD)   \n",
      "1900     Individual       No                           Yes (HUD)   \n",
      "1902     Individual       No            Data not collected (HUD)   \n",
      "1909     Individual       No  Client prefers not to answer (HUD)   \n",
      "\n",
      "                                           Race (Retired)  \\\n",
      "4                                             White (HUD)   \n",
      "6     American Indian, Alaska Native, or Indigenous (HUD)   \n",
      "19    American Indian, Alaska Native, or Indigenous (HUD)   \n",
      "25                                            White (HUD)   \n",
      "33                                            White (HUD)   \n",
      "...                                                   ...   \n",
      "1892  American Indian, Alaska Native, or Indigenous (HUD)   \n",
      "1893                                          White (HUD)   \n",
      "1900                                          White (HUD)   \n",
      "1902                                          White (HUD)   \n",
      "1909                                          White (HUD)   \n",
      "\n",
      "                        Ethnicity (Retired)  \n",
      "4     Non-Hispanic/Non-Latin(a)(o)(x) (HUD)  \n",
      "6     Non-Hispanic/Non-Latin(a)(o)(x) (HUD)  \n",
      "19    Non-Hispanic/Non-Latin(a)(o)(x) (HUD)  \n",
      "25    Non-Hispanic/Non-Latin(a)(o)(x) (HUD)  \n",
      "33    Non-Hispanic/Non-Latin(a)(o)(x) (HUD)  \n",
      "...                                     ...  \n",
      "1892                   Client refused (HUD)  \n",
      "1893  Non-Hispanic/Non-Latin(a)(o)(x) (HUD)  \n",
      "1900  Non-Hispanic/Non-Latin(a)(o)(x) (HUD)  \n",
      "1902  Non-Hispanic/Non-Latin(a)(o)(x) (HUD)  \n",
      "1909  Non-Hispanic/Non-Latin(a)(o)(x) (HUD)  \n",
      "\n",
      "[345 rows x 13 columns]\n"
     ]
    }
   ],
   "source": [
    "# Creating the repeat dataframe\n",
    "repeat = dest[dest[\"HMIS ID\"].duplicated(keep=False)]\n",
    "\n",
    "# Display the resulting dataframe\n",
    "print(repeat)"
   ]
  },
  {
   "cell_type": "code",
   "execution_count": 56,
   "metadata": {},
   "outputs": [
    {
     "name": "stdout",
     "output_type": "stream",
     "text": [
      "      HMIS ID  \\\n",
      "88      28351   \n",
      "75      28351   \n",
      "1447   110591   \n",
      "1448   110591   \n",
      "109    114968   \n",
      "...       ...   \n",
      "1539   202261   \n",
      "550    202778   \n",
      "551    202778   \n",
      "1557   205388   \n",
      "105    205388   \n",
      "\n",
      "                                               Entry/Exit Destination  \\\n",
      "88                 Jail, prison, or juvenile detention facility (HUD)   \n",
      "75    Hotel or motel paid for without emergency shelter voucher (HUD)   \n",
      "1447         Psychiatric hospital or other psychiatric facility (HUD)   \n",
      "1448         Psychiatric hospital or other psychiatric facility (HUD)   \n",
      "109                Jail, prison, or juvenile detention facility (HUD)   \n",
      "...                                                               ...   \n",
      "1539               Rental by client, no ongoing housing subsidy (HUD)   \n",
      "550                                 No exit interview completed (HUD)   \n",
      "551                                 No exit interview completed (HUD)   \n",
      "1557               Rental by client, no ongoing housing subsidy (HUD)   \n",
      "105                Jail, prison, or juvenile detention facility (HUD)   \n",
      "\n",
      "     Entry Date  Exit Date  Days to Destination    Veteran Date of Birth  Age  \\\n",
      "88   2023-07-01 2024-01-13                  196   No (HUD)    1993-03-15   31   \n",
      "75   2021-03-30 2022-12-19                  629   No (HUD)    1993-03-15   31   \n",
      "1447 2023-02-22 2023-03-17                   23  Yes (HUD)    1957-11-12   67   \n",
      "1448 2024-01-29 2024-07-06                  159  Yes (HUD)    1957-11-12   67   \n",
      "109  2022-04-29 2023-01-17                  263   No (HUD)    1978-09-18   46   \n",
      "...         ...        ...                  ...        ...           ...  ...   \n",
      "1539 2024-04-23 2024-04-24                    1   No (HUD)    1982-06-14   42   \n",
      "550  2023-12-28 2024-04-08                  102        NaN    1988-12-29   35   \n",
      "551  2023-11-01 2024-04-08                  159        NaN    1988-12-29   35   \n",
      "1557 2024-05-20 2024-06-01                   12  Yes (HUD)    1984-12-02   40   \n",
      "105  2024-02-23 2024-04-29                   66  Yes (HUD)    1984-12-02   40   \n",
      "\n",
      "     Household Type Pregnant                          Chronicity  \\\n",
      "88       Individual      NaN  Client prefers not to answer (HUD)   \n",
      "75       Individual      NaN  Client prefers not to answer (HUD)   \n",
      "1447     Individual      NaN                           Yes (HUD)   \n",
      "1448     Individual      NaN                           Yes (HUD)   \n",
      "109      Individual      NaN  Client prefers not to answer (HUD)   \n",
      "...             ...      ...                                 ...   \n",
      "1539     Individual       No                            No (HUD)   \n",
      "550      Individual       No                            No (HUD)   \n",
      "551      Individual       No                            No (HUD)   \n",
      "1557     Individual       No                            No (HUD)   \n",
      "105      Individual       No                            No (HUD)   \n",
      "\n",
      "                                           Race (Retired)  \\\n",
      "88                                            White (HUD)   \n",
      "75                                            White (HUD)   \n",
      "1447                                          White (HUD)   \n",
      "1448                                          White (HUD)   \n",
      "109   American Indian, Alaska Native, or Indigenous (HUD)   \n",
      "...                                                   ...   \n",
      "1539                                                  NaN   \n",
      "550                                                   NaN   \n",
      "551                                                   NaN   \n",
      "1557                                                  NaN   \n",
      "105                                                   NaN   \n",
      "\n",
      "                        Ethnicity (Retired)  \n",
      "88    Non-Hispanic/Non-Latin(a)(o)(x) (HUD)  \n",
      "75    Non-Hispanic/Non-Latin(a)(o)(x) (HUD)  \n",
      "1447  Non-Hispanic/Non-Latin(a)(o)(x) (HUD)  \n",
      "1448  Non-Hispanic/Non-Latin(a)(o)(x) (HUD)  \n",
      "109   Non-Hispanic/Non-Latin(a)(o)(x) (HUD)  \n",
      "...                                     ...  \n",
      "1539                                    NaN  \n",
      "550                                     NaN  \n",
      "551                                     NaN  \n",
      "1557                                    NaN  \n",
      "105                                     NaN  \n",
      "\n",
      "[345 rows x 13 columns]\n"
     ]
    }
   ],
   "source": [
    "# Sorting the repeat dataframe by the \"HMIS ID\" column\n",
    "repeat_sorted = repeat.sort_values(by=\"HMIS ID\")\n",
    "\n",
    "# Display the sorted dataframe\n",
    "print(repeat_sorted)\n"
   ]
  },
  {
   "cell_type": "code",
   "execution_count": 57,
   "metadata": {},
   "outputs": [
    {
     "name": "stdout",
     "output_type": "stream",
     "text": [
      "Index(['HMIS ID', 'Entry/Exit Destination', 'Entry Date', 'Exit Date',\n",
      "       'Days to Destination', 'Veteran', 'Date of Birth', 'Age',\n",
      "       'Household Type', 'Pregnant', 'Chronicity', 'Race (Retired)',\n",
      "       'Ethnicity (Retired)'],\n",
      "      dtype='object')\n"
     ]
    }
   ],
   "source": [
    "print(repeat.columns)\n"
   ]
  },
  {
   "cell_type": "code",
   "execution_count": 58,
   "metadata": {},
   "outputs": [
    {
     "name": "stdout",
     "output_type": "stream",
     "text": [
      "The highest number of repeating values for 'HMIS ID' is: 4\n"
     ]
    }
   ],
   "source": [
    "# Count the occurrences of each \"HMIS ID\"\n",
    "repeat_counts = repeat[\"HMIS ID\"].value_counts()\n",
    "\n",
    "# Get the maximum count (highest number of repeats)\n",
    "max_repeats = repeat_counts.max()\n",
    "\n",
    "print(f\"The highest number of repeating values for 'HMIS ID' is: {max_repeats}\")\n"
   ]
  },
  {
   "cell_type": "code",
   "execution_count": null,
   "metadata": {},
   "outputs": [
    {
     "name": "stdout",
     "output_type": "stream",
     "text": [
      "     hmis_id  repeats    entry_1     exit_1    entry_2     exit_2 entry_3  \\\n",
      "0      28351        2 2021-03-30 2022-12-19 2023-07-01 2024-01-13     NaT   \n",
      "1     110591        2 2023-02-22 2023-03-17 2024-01-29 2024-07-06     NaT   \n",
      "2     114968        2 2022-04-29 2023-01-17 2023-05-16 2023-09-01     NaT   \n",
      "3     117893        2 2023-02-10 2023-07-03 2024-04-08 2024-09-03     NaT   \n",
      "4     132248        2 2022-09-23 2022-12-05 2023-07-05 2023-07-06     NaT   \n",
      "..       ...      ...        ...        ...        ...        ...     ...   \n",
      "161   201293        2 2023-08-31 2023-09-15 2023-09-15 2024-01-05     NaT   \n",
      "162   201294        2 2023-08-31 2023-09-15 2023-09-15 2024-01-05     NaT   \n",
      "163   202261        2 2023-10-12 2024-02-02 2024-04-23 2024-04-24     NaT   \n",
      "164   202778        2 2023-12-28 2024-04-08 2023-11-01 2024-04-08     NaT   \n",
      "165   205388        2 2024-02-23 2024-04-29 2024-05-20 2024-06-01     NaT   \n",
      "\n",
      "    exit_3 entry_4 exit_4  ... des_3 des_4    veteran      d_o_b   household  \\\n",
      "0      NaT     NaT    NaT  ...  None  None   No (HUD) 1993-03-15  Individual   \n",
      "1      NaT     NaT    NaT  ...  None  None  Yes (HUD) 1957-11-12  Individual   \n",
      "2      NaT     NaT    NaT  ...  None  None   No (HUD) 1978-09-18  Individual   \n",
      "3      NaT     NaT    NaT  ...  None  None   No (HUD) 1958-10-18  Individual   \n",
      "4      NaT     NaT    NaT  ...  None  None   No (HUD) 1986-11-12      Family   \n",
      "..     ...     ...    ...  ...   ...   ...        ...        ...         ...   \n",
      "161    NaT     NaT    NaT  ...  None  None       None        NaT  Individual   \n",
      "162    NaT     NaT    NaT  ...  None  None       None 1983-09-27  Individual   \n",
      "163    NaT     NaT    NaT  ...  None  None   No (HUD) 1982-06-14  Individual   \n",
      "164    NaT     NaT    NaT  ...  None  None       None 1988-12-29  Individual   \n",
      "165    NaT     NaT    NaT  ...  None  None  Yes (HUD) 1984-12-02  Individual   \n",
      "\n",
      "    pregnant                             chronic  \\\n",
      "0          2  Client prefers not to answer (HUD)   \n",
      "1          2                           Yes (HUD)   \n",
      "2          2  Client prefers not to answer (HUD)   \n",
      "3          0                            No (HUD)   \n",
      "4          0            Data not collected (HUD)   \n",
      "..       ...                                 ...   \n",
      "161        2            Data not collected (HUD)   \n",
      "162        2            Data not collected (HUD)   \n",
      "163        0                            No (HUD)   \n",
      "164        0                            No (HUD)   \n",
      "165        0                            No (HUD)   \n",
      "\n",
      "                                                    race  \\\n",
      "0                                            White (HUD)   \n",
      "1                                            White (HUD)   \n",
      "2    American Indian, Alaska Native, or Indigenous (HUD)   \n",
      "3                                            White (HUD)   \n",
      "4                                            White (HUD)   \n",
      "..                                                   ...   \n",
      "161                                                 None   \n",
      "162                                          White (HUD)   \n",
      "163                                                 None   \n",
      "164                                                 None   \n",
      "165                                                 None   \n",
      "\n",
      "                                      ethn  age  \n",
      "0    Non-Hispanic/Non-Latin(a)(o)(x) (HUD)   31  \n",
      "1    Non-Hispanic/Non-Latin(a)(o)(x) (HUD)   67  \n",
      "2    Non-Hispanic/Non-Latin(a)(o)(x) (HUD)   46  \n",
      "3    Non-Hispanic/Non-Latin(a)(o)(x) (HUD)   66  \n",
      "4    Non-Hispanic/Non-Latin(a)(o)(x) (HUD)   38  \n",
      "..                                     ...  ...  \n",
      "161                                   None  124  \n",
      "162                                   None   41  \n",
      "163                                   None   42  \n",
      "164                                   None   35  \n",
      "165                                   None   40  \n",
      "\n",
      "[166 rows x 22 columns]\n"
     ]
    },
    {
     "name": "stderr",
     "output_type": "stream",
     "text": [
      "C:\\Users\\jacob\\AppData\\Local\\Temp\\ipykernel_18076\\3949020089.py:37: DeprecationWarning: DataFrameGroupBy.apply operated on the grouping columns. This behavior is deprecated, and in a future version of pandas the grouping columns will be excluded from the operation. Either pass `include_groups=False` to exclude the groupings or explicitly select the grouping columns after groupby to silence this warning.\n",
      "  rep = repeat.groupby(\"HMIS ID\").apply(process_group).reset_index(drop=True)\n"
     ]
    }
   ],
   "source": [
    "# Define the aggregation function with the new columns\n",
    "def process_group(group):\n",
    "    # Sort by Exit Date\n",
    "    sorted_group = group.sort_values(by=\"Exit Date\")\n",
    "    \n",
    "    # Extract entry, exit dates, and destinations\n",
    "    entry_dates = sorted_group[\"Entry Date\"].tolist()\n",
    "    exit_dates = sorted_group[\"Exit Date\"].tolist()\n",
    "    destinations = sorted_group[\"Entry/Exit Destination\"].tolist()\n",
    "    \n",
    "    return pd.Series({\n",
    "        \"hmis_id\": group[\"HMIS ID\"].iloc[0],\n",
    "        \"repeats\": len(group),\n",
    "        \"entry_1\": entry_dates[0] if len(entry_dates) > 0 else None,\n",
    "        \"exit_1\": exit_dates[0] if len(exit_dates) > 0 else None,\n",
    "        \"entry_2\": entry_dates[1] if len(entry_dates) > 1 else None,\n",
    "        \"exit_2\": exit_dates[1] if len(exit_dates) > 1 else None,\n",
    "        \"entry_3\": entry_dates[2] if len(entry_dates) > 2 else None,\n",
    "        \"exit_3\": exit_dates[2] if len(exit_dates) > 2 else None,\n",
    "        \"entry_4\": entry_dates[3] if len(entry_dates) > 3 else None,\n",
    "        \"exit_4\": exit_dates[3] if len(exit_dates) > 3 else None,\n",
    "        \"des_1\": destinations[0] if len(destinations) > 0 else None,\n",
    "        \"des_2\": destinations[1] if len(destinations) > 1 else None,\n",
    "        \"des_3\": destinations[2] if len(destinations) > 2 else None,\n",
    "        \"des_4\": destinations[3] if len(destinations) > 3 else None,\n",
    "        \"veteran\": group[\"Veteran\"].mode().iloc[0] if not group[\"Veteran\"].mode().empty else None,\n",
    "        \"d_o_b\": group[\"Date of Birth\"].mode().iloc[0] if not group[\"Date of Birth\"].mode().empty else None,\n",
    "        \"household\": group[\"Household Type\"].mode().iloc[0] if not group[\"Household Type\"].mode().empty else None,\n",
    "        \"pregnant\": sum(group[\"Pregnant\"] != \"No\"),\n",
    "        \"chronic\": group[\"Chronicity\"].mode().iloc[0] if not group[\"Chronicity\"].mode().empty else None,\n",
    "        \"race\": group[\"Race (Retired)\"].mode().iloc[0] if not group[\"Race (Retired)\"].mode().empty else None,\n",
    "        \"ethn\": group[\"Ethnicity (Retired)\"].mode().iloc[0] if not group[\"Ethnicity (Retired)\"].mode().empty else None,\n",
    "        \"age\" : group[\"Age\"].mode().iloc[0] if not group[\"Age\"].mode().empty else None\n",
    "    })\n",
    "\n",
    "# Group by \"HMIS ID\" and apply the aggregation function\n",
    "rep = repeat.groupby(\"HMIS ID\").apply(process_group).reset_index(drop=True)\n",
    "\n",
    "# Display the resulting dataframe\n",
    "print(rep)\n"
   ]
  },
  {
   "cell_type": "code",
   "execution_count": 60,
   "metadata": {},
   "outputs": [
    {
     "name": "stdout",
     "output_type": "stream",
     "text": [
      "The average time between 'exit_1' and 'entry_2' is: 40.96 days.\n"
     ]
    }
   ],
   "source": [
    "# Ensure \"exit_1\" and \"entry_2\" are datetime objects\n",
    "rep[\"exit_1\"] = pd.to_datetime(rep[\"exit_1\"])\n",
    "rep[\"entry_2\"] = pd.to_datetime(rep[\"entry_2\"])\n",
    "\n",
    "# Calculate the time difference in days\n",
    "rep[\"time_diff\"] = (rep[\"entry_2\"] - rep[\"exit_1\"]).dt.days\n",
    "\n",
    "# Calculate the average time difference, ignoring null values\n",
    "average_time_diff = rep[\"time_diff\"].mean()\n",
    "\n",
    "print(f\"The average time between 'exit_1' and 'entry_2' is: {average_time_diff:.2f} days.\")\n"
   ]
  },
  {
   "cell_type": "code",
   "execution_count": 61,
   "metadata": {},
   "outputs": [
    {
     "name": "stdout",
     "output_type": "stream",
     "text": [
      "     hmis_id  repeats    entry_1     exit_1    entry_2     exit_2 entry_3  \\\n",
      "0      28351        2 2021-03-30 2022-12-19 2023-07-01 2024-01-13     NaT   \n",
      "1     110591        2 2023-02-22 2023-03-17 2024-01-29 2024-07-06     NaT   \n",
      "2     114968        2 2022-04-29 2023-01-17 2023-05-16 2023-09-01     NaT   \n",
      "3     117893        2 2023-02-10 2023-07-03 2024-04-08 2024-09-03     NaT   \n",
      "4     132248        2 2022-09-23 2022-12-05 2023-07-05 2023-07-06     NaT   \n",
      "..       ...      ...        ...        ...        ...        ...     ...   \n",
      "161   201293        2 2023-08-31 2023-09-15 2023-09-15 2024-01-05     NaT   \n",
      "162   201294        2 2023-08-31 2023-09-15 2023-09-15 2024-01-05     NaT   \n",
      "163   202261        2 2023-10-12 2024-02-02 2024-04-23 2024-04-24     NaT   \n",
      "164   202778        2 2023-12-28 2024-04-08 2023-11-01 2024-04-08     NaT   \n",
      "165   205388        2 2024-02-23 2024-04-29 2024-05-20 2024-06-01     NaT   \n",
      "\n",
      "    exit_3 entry_4 exit_4  ...    veteran      d_o_b   household pregnant  \\\n",
      "0      NaT     NaT    NaT  ...   No (HUD) 1993-03-15  Individual        2   \n",
      "1      NaT     NaT    NaT  ...  Yes (HUD) 1957-11-12  Individual        2   \n",
      "2      NaT     NaT    NaT  ...   No (HUD) 1978-09-18  Individual        2   \n",
      "3      NaT     NaT    NaT  ...   No (HUD) 1958-10-18  Individual        0   \n",
      "4      NaT     NaT    NaT  ...   No (HUD) 1986-11-12      Family        0   \n",
      "..     ...     ...    ...  ...        ...        ...         ...      ...   \n",
      "161    NaT     NaT    NaT  ...       None        NaT  Individual        2   \n",
      "162    NaT     NaT    NaT  ...       None 1983-09-27  Individual        2   \n",
      "163    NaT     NaT    NaT  ...   No (HUD) 1982-06-14  Individual        0   \n",
      "164    NaT     NaT    NaT  ...       None 1988-12-29  Individual        0   \n",
      "165    NaT     NaT    NaT  ...  Yes (HUD) 1984-12-02  Individual        0   \n",
      "\n",
      "                                chronic  \\\n",
      "0    Client prefers not to answer (HUD)   \n",
      "1                             Yes (HUD)   \n",
      "2    Client prefers not to answer (HUD)   \n",
      "3                              No (HUD)   \n",
      "4              Data not collected (HUD)   \n",
      "..                                  ...   \n",
      "161            Data not collected (HUD)   \n",
      "162            Data not collected (HUD)   \n",
      "163                            No (HUD)   \n",
      "164                            No (HUD)   \n",
      "165                            No (HUD)   \n",
      "\n",
      "                                                    race  \\\n",
      "0                                            White (HUD)   \n",
      "1                                            White (HUD)   \n",
      "2    American Indian, Alaska Native, or Indigenous (HUD)   \n",
      "3                                            White (HUD)   \n",
      "4                                            White (HUD)   \n",
      "..                                                   ...   \n",
      "161                                                 None   \n",
      "162                                          White (HUD)   \n",
      "163                                                 None   \n",
      "164                                                 None   \n",
      "165                                                 None   \n",
      "\n",
      "                                      ethn  age time_diff  \\\n",
      "0    Non-Hispanic/Non-Latin(a)(o)(x) (HUD)   31       194   \n",
      "1    Non-Hispanic/Non-Latin(a)(o)(x) (HUD)   67       318   \n",
      "2    Non-Hispanic/Non-Latin(a)(o)(x) (HUD)   46       119   \n",
      "3    Non-Hispanic/Non-Latin(a)(o)(x) (HUD)   66       280   \n",
      "4    Non-Hispanic/Non-Latin(a)(o)(x) (HUD)   38       212   \n",
      "..                                     ...  ...       ...   \n",
      "161                                   None  124         0   \n",
      "162                                   None   41         0   \n",
      "163                                   None   42        81   \n",
      "164                                   None   35      -159   \n",
      "165                                   None   40        21   \n",
      "\n",
      "                                                                                                                         prog  \n",
      "0         Hotel or motel paid for without emergency shelter voucher (HUD), Jail, prison, or juvenile detention facility (HUD)  \n",
      "1          Psychiatric hospital or other psychiatric facility (HUD), Psychiatric hospital or other psychiatric facility (HUD)  \n",
      "2                                       Jail, prison, or juvenile detention facility (HUD), No exit interview completed (HUD)  \n",
      "3                                                        No exit interview completed (HUD), No exit interview completed (HUD)  \n",
      "4    Hospital or other residential non-psychiatric medical facility (HUD), Rental by client, no ongoing housing subsidy (HUD)  \n",
      "..                                                                                                                        ...  \n",
      "161                                     Rental by client, no ongoing housing subsidy (HUD), No exit interview completed (HUD)  \n",
      "162                                     Rental by client, no ongoing housing subsidy (HUD), No exit interview completed (HUD)  \n",
      "163                                     No exit interview completed (HUD), Rental by client, no ongoing housing subsidy (HUD)  \n",
      "164                                                      No exit interview completed (HUD), No exit interview completed (HUD)  \n",
      "165                    Jail, prison, or juvenile detention facility (HUD), Rental by client, no ongoing housing subsidy (HUD)  \n",
      "\n",
      "[166 rows x 24 columns]\n"
     ]
    }
   ],
   "source": [
    "# Create the \"prog\" column by combining the destination columns\n",
    "rep[\"prog\"] = rep[[\"des_1\", \"des_2\", \"des_3\", \"des_4\"]].apply(\n",
    "    lambda row: \", \".join(filter(None, row)), axis=1\n",
    ")\n",
    "\n",
    "# Display the resulting dataframe\n",
    "print(rep)\n"
   ]
  },
  {
   "cell_type": "code",
   "execution_count": 62,
   "metadata": {},
   "outputs": [
    {
     "name": "stdout",
     "output_type": "stream",
     "text": [
      "Index(['hmis_id', 'repeats', 'entry_1', 'exit_1', 'entry_2', 'exit_2',\n",
      "       'entry_3', 'exit_3', 'entry_4', 'exit_4', 'des_1', 'des_2', 'des_3',\n",
      "       'des_4', 'veteran', 'd_o_b', 'household', 'pregnant', 'chronic', 'race',\n",
      "       'ethn', 'age', 'time_diff', 'prog'],\n",
      "      dtype='object')\n"
     ]
    }
   ],
   "source": [
    "print(rep.columns)"
   ]
  },
  {
   "cell_type": "code",
   "execution_count": 63,
   "metadata": {},
   "outputs": [
    {
     "name": "stdout",
     "output_type": "stream",
     "text": [
      "The average length of time between 'entry_1' and 'exit_1' is: 316.72 days.\n"
     ]
    }
   ],
   "source": [
    "# Ensure \"entry_1\" and \"exit_1\" are datetime objects\n",
    "rep[\"entry_1\"] = pd.to_datetime(rep[\"entry_1\"])\n",
    "rep[\"exit_1\"] = pd.to_datetime(rep[\"exit_1\"])\n",
    "\n",
    "# Calculate the time difference in days\n",
    "rep[\"duration\"] = (rep[\"exit_1\"] - rep[\"entry_1\"]).dt.days\n",
    "\n",
    "# Compute the average duration\n",
    "average_duration = rep[\"duration\"].mean()\n",
    "\n",
    "print(f\"The average length of time between 'entry_1' and 'exit_1' is: {average_duration:.2f} days.\")\n"
   ]
  },
  {
   "cell_type": "code",
   "execution_count": 64,
   "metadata": {},
   "outputs": [
    {
     "name": "stdout",
     "output_type": "stream",
     "text": [
      "The average length of time between 'entry_2' and 'exit_2' is: 220.07 days.\n"
     ]
    }
   ],
   "source": [
    "# Ensure \"entry_1\" and \"exit_1\" are datetime objects\n",
    "rep[\"entry_2\"] = pd.to_datetime(rep[\"entry_2\"])\n",
    "rep[\"exit_2\"] = pd.to_datetime(rep[\"exit_2\"])\n",
    "\n",
    "# Calculate the time difference in days\n",
    "rep[\"duration\"] = (rep[\"exit_2\"] - rep[\"entry_2\"]).dt.days\n",
    "\n",
    "# Compute the average duration\n",
    "average_duration = rep[\"duration\"].mean()\n",
    "\n",
    "print(f\"The average length of time between 'entry_2' and 'exit_2' is: {average_duration:.2f} days.\")\n"
   ]
  },
  {
   "cell_type": "code",
   "execution_count": 65,
   "metadata": {},
   "outputs": [
    {
     "name": "stdout",
     "output_type": "stream",
     "text": [
      "                                                                                                                                                                                                                                                 prog  \\\n",
      "0                                                                                                                                                                                No exit interview completed (HUD), No exit interview completed (HUD)   \n",
      "1                                                                                                                                                             No exit interview completed (HUD), Rental by client, with ongoing housing subsidy (HUD)   \n",
      "2                                                                                                                                                               No exit interview completed (HUD), Rental by client, no ongoing housing subsidy (HUD)   \n",
      "3                                                                                                                                                               Rental by client, no ongoing housing subsidy (HUD), No exit interview completed (HUD)   \n",
      "4                                                                                                                                          Rental by client, with ongoing housing subsidy (HUD), Rental by client, with ongoing housing subsidy (HUD)   \n",
      "5                                                                                                                                                             Rental by client, with ongoing housing subsidy (HUD), No exit interview completed (HUD)   \n",
      "6                                                                                                                                                               Jail, prison, or juvenile detention facility (HUD), No exit interview completed (HUD)   \n",
      "7                                                                                                                                                               No exit interview completed (HUD), Jail, prison, or juvenile detention facility (HUD)   \n",
      "8                                                                                                                          No exit interview completed (HUD), No exit interview completed (HUD), Rental by client, with ongoing housing subsidy (HUD)   \n",
      "9                                                           Place not meant for habitation (e.g., a vehicle, an abandoned building, bus/train/subway station/airport or anywhere outside) (HUD), Rental by client, with ongoing housing subsidy (HUD)   \n",
      "10                                                                                                                                            No exit interview completed (HUD), No exit interview completed (HUD), No exit interview completed (HUD)   \n",
      "11                                                                                                                                             Rental by client, no ongoing housing subsidy (HUD), Rental by client, no ongoing housing subsidy (HUD)   \n",
      "12                                                                                                                         No exit interview completed (HUD), Staying or living with family, temporary tenure (e.g., room, apartment, or house) (HUD)   \n",
      "13                                                                                                                                                           No exit interview completed (HUD), Staying or living with family, permanent tenure (HUD)   \n",
      "14                                                                                                                                        Rental by client, with ongoing housing subsidy (HUD), Staying or living with family, permanent tenure (HUD)   \n",
      "15                                                                                                                                           Rental by client, no ongoing housing subsidy (HUD), Rental by client, with ongoing housing subsidy (HUD)   \n",
      "16                                                                                                       Rental by client, no ongoing housing subsidy (HUD), Staying or living with friends, temporary tenure (e.g., room, apartment, or house) (HUD)   \n",
      "17                                            Rental by client, with ongoing housing subsidy (HUD), Psychiatric hospital or other psychiatric facility (HUD), Staying or living with family, temporary tenure (e.g., room, apartment, or house) (HUD)   \n",
      "18                                                                                              Substance abuse treatment facility or detox center (HUD), Substance abuse treatment facility or detox center (HUD), No exit interview completed (HUD)   \n",
      "19                                                                                                                                                                               Rental by client, with ongoing housing subsidy (HUD), Deceased (HUD)   \n",
      "20                                                                 Staying or living with friends, temporary tenure (e.g., room, apartment, or house) (HUD), Staying or living with friends, temporary tenure (e.g., room, apartment, or house) (HUD)   \n",
      "21                                                                                                                         Rental by client, with ongoing housing subsidy (HUD), Hospital or other residential non-psychiatric medical facility (HUD)   \n",
      "22                                                                                                                                                Rental by client, with ongoing housing subsidy (HUD), Long-term care facility or nursing home (HUD)   \n",
      "23                                                                                      Staying or living with family, temporary tenure (e.g., room, apartment, or house) (HUD), Residential project or halfway house with no homeless criteria (HUD)   \n",
      "24                                                                                                      Staying or living with family, temporary tenure (e.g., room, apartment, or house) (HUD), Rental by client, with ongoing housing subsidy (HUD)   \n",
      "25                                                                                                                                            Residential project or halfway house with no homeless criteria (HUD), No exit interview completed (HUD)   \n",
      "26                                                                                                        Staying or living with family, temporary tenure (e.g., room, apartment, or house) (HUD), Rental by client, no ongoing housing subsidy (HUD)   \n",
      "27                                                                                                                                           Rental by client, with ongoing housing subsidy (HUD), Rental by client, no ongoing housing subsidy (HUD)   \n",
      "28                                                                                                                                            Staying or living with family, temporary tenure (e.g., room, apartment, or house) (HUD), Deceased (HUD)   \n",
      "29                                                                                                                                        Staying or living with family, permanent tenure (HUD), Rental by client, with ongoing housing subsidy (HUD)   \n",
      "30                                                                                                                                          Staying or living with family, permanent tenure (HUD), Rental by client, no ongoing housing subsidy (HUD)   \n",
      "31                                                                                                                                                           Staying or living with family, permanent tenure (HUD), No exit interview completed (HUD)   \n",
      "32                                                                                                                                     Rental by client, with ongoing housing subsidy (HUD), Substance abuse treatment facility or detox center (HUD)   \n",
      "33                                                                                                                       Emergency shelter, including hotel or motel paid for with emergency shelter voucher, Host Home shelter (HUD), Deceased (HUD)   \n",
      "34                                                                                                                                         Rental by client, no ongoing housing subsidy (HUD), Staying or living with friends, permanent tenure (HUD)   \n",
      "35                                                                                                    No exit interview completed (HUD), Emergency shelter, including hotel or motel paid for with emergency shelter voucher, Host Home shelter (HUD)   \n",
      "36  Emergency shelter, including hotel or motel paid for with emergency shelter voucher, Host Home shelter (HUD), Place not meant for habitation (e.g., a vehicle, an abandoned building, bus/train/subway station/airport or anywhere outside) (HUD)   \n",
      "37                                                                                   Emergency shelter, including hotel or motel paid for with emergency shelter voucher, Host Home shelter (HUD), Rental by client, no ongoing housing subsidy (HUD)   \n",
      "38                                                                                 Emergency shelter, including hotel or motel paid for with emergency shelter voucher, Host Home shelter (HUD), Rental by client, with ongoing housing subsidy (HUD)   \n",
      "39                                                                                                                           Hospital or other residential non-psychiatric medical facility (HUD), Rental by client, no ongoing housing subsidy (HUD)   \n",
      "40                                                                                                                                Hotel or motel paid for without emergency shelter voucher (HUD), Jail, prison, or juvenile detention facility (HUD)   \n",
      "41                                                                                                                                             Jail, prison, or juvenile detention facility (HUD), Jail, prison, or juvenile detention facility (HUD)   \n",
      "42                                                                                                                                             Jail, prison, or juvenile detention facility (HUD), Rental by client, no ongoing housing subsidy (HUD)   \n",
      "43                                                                                                                                                                                                  No exit interview completed (HUD), Deceased (HUD)   \n",
      "44                                                                 No exit interview completed (HUD), No exit interview completed (HUD), Emergency shelter, including hotel or motel paid for with emergency shelter voucher, Host Home shelter (HUD)   \n",
      "45                                                                                                                           Rental by client, no ongoing housing subsidy (HUD), No exit interview completed (HUD), No exit interview completed (HUD)   \n",
      "46                                                                                                                           No exit interview completed (HUD), No exit interview completed (HUD), Rental by client, no ongoing housing subsidy (HUD)   \n",
      "47         No exit interview completed (HUD), No exit interview completed (HUD), Transitional housing for homeless persons (including homeless youth) (HUD), Staying or living with friends, temporary tenure (e.g., room, apartment, or house) (HUD)   \n",
      "48                                                                                                                                                        No exit interview completed (HUD), Psychiatric hospital or other psychiatric facility (HUD)   \n",
      "49                                                                   No exit interview completed (HUD), Rental by client, with ongoing housing subsidy (HUD), Staying or living with family, temporary tenure (e.g., room, apartment, or house) (HUD)   \n",
      "50                                                                                                                                      No exit interview completed (HUD), Transitional housing for homeless persons (including homeless youth) (HUD)   \n",
      "51                                                                             Place not meant for habitation (e.g., a vehicle, an abandoned building, bus/train/subway station/airport or anywhere outside) (HUD), No exit interview completed (HUD)   \n",
      "52                                                                                                    Emergency shelter, including hotel or motel paid for with emergency shelter voucher, Host Home shelter (HUD), No exit interview completed (HUD)   \n",
      "53                                                                                                                                 Psychiatric hospital or other psychiatric facility (HUD), Psychiatric hospital or other psychiatric facility (HUD)   \n",
      "54                                                                                                                     Transitional housing for homeless persons (including homeless youth) (HUD), Jail, prison, or juvenile detention facility (HUD)   \n",
      "\n",
      "    count  \n",
      "0      65  \n",
      "1      12  \n",
      "2      12  \n",
      "3       8  \n",
      "4       4  \n",
      "5       3  \n",
      "6       3  \n",
      "7       3  \n",
      "8       3  \n",
      "9       2  \n",
      "10      2  \n",
      "11      2  \n",
      "12      2  \n",
      "13      2  \n",
      "14      2  \n",
      "15      2  \n",
      "16      1  \n",
      "17      1  \n",
      "18      1  \n",
      "19      1  \n",
      "20      1  \n",
      "21      1  \n",
      "22      1  \n",
      "23      1  \n",
      "24      1  \n",
      "25      1  \n",
      "26      1  \n",
      "27      1  \n",
      "28      1  \n",
      "29      1  \n",
      "30      1  \n",
      "31      1  \n",
      "32      1  \n",
      "33      1  \n",
      "34      1  \n",
      "35      1  \n",
      "36      1  \n",
      "37      1  \n",
      "38      1  \n",
      "39      1  \n",
      "40      1  \n",
      "41      1  \n",
      "42      1  \n",
      "43      1  \n",
      "44      1  \n",
      "45      1  \n",
      "46      1  \n",
      "47      1  \n",
      "48      1  \n",
      "49      1  \n",
      "50      1  \n",
      "51      1  \n",
      "52      1  \n",
      "53      1  \n",
      "54      1  \n"
     ]
    }
   ],
   "source": [
    "# Group by \"prog\" and count occurrences\n",
    "prog = rep.groupby(\"prog\").size().reset_index(name=\"count\")\n",
    "\n",
    "# Sort the resulting dataframe by \"count\" in descending order\n",
    "prog = prog.sort_values(by=\"count\", ascending=False).reset_index(drop=True)\n",
    "\n",
    "# Display the resulting dataframe\n",
    "print(prog)\n"
   ]
  },
  {
   "cell_type": "code",
   "execution_count": 66,
   "metadata": {},
   "outputs": [
    {
     "name": "stdout",
     "output_type": "stream",
     "text": [
      "                                                                                                                                                                                                                                                 prog  \\\n",
      "0                                                                                                                                                                                No exit interview completed (HUD), No exit interview completed (HUD)   \n",
      "1                                                                                                                                                             No exit interview completed (HUD), Rental by client, with ongoing housing subsidy (HUD)   \n",
      "2                                                                                                                                                               No exit interview completed (HUD), Rental by client, no ongoing housing subsidy (HUD)   \n",
      "3                                                                                                                                                               Rental by client, no ongoing housing subsidy (HUD), No exit interview completed (HUD)   \n",
      "4                                                                                                                                          Rental by client, with ongoing housing subsidy (HUD), Rental by client, with ongoing housing subsidy (HUD)   \n",
      "5                                                                                                                                                             Rental by client, with ongoing housing subsidy (HUD), No exit interview completed (HUD)   \n",
      "6                                                                                                                                                               Jail, prison, or juvenile detention facility (HUD), No exit interview completed (HUD)   \n",
      "7                                                                                                                                                               No exit interview completed (HUD), Jail, prison, or juvenile detention facility (HUD)   \n",
      "8                                                                                                                          No exit interview completed (HUD), No exit interview completed (HUD), Rental by client, with ongoing housing subsidy (HUD)   \n",
      "9                                                           Place not meant for habitation (e.g., a vehicle, an abandoned building, bus/train/subway station/airport or anywhere outside) (HUD), Rental by client, with ongoing housing subsidy (HUD)   \n",
      "10                                                                                                                                            No exit interview completed (HUD), No exit interview completed (HUD), No exit interview completed (HUD)   \n",
      "11                                                                                                                                             Rental by client, no ongoing housing subsidy (HUD), Rental by client, no ongoing housing subsidy (HUD)   \n",
      "12                                                                                                                         No exit interview completed (HUD), Staying or living with family, temporary tenure (e.g., room, apartment, or house) (HUD)   \n",
      "13                                                                                                                                                           No exit interview completed (HUD), Staying or living with family, permanent tenure (HUD)   \n",
      "14                                                                                                                                        Rental by client, with ongoing housing subsidy (HUD), Staying or living with family, permanent tenure (HUD)   \n",
      "15                                                                                                                                           Rental by client, no ongoing housing subsidy (HUD), Rental by client, with ongoing housing subsidy (HUD)   \n",
      "16                                                                                                       Rental by client, no ongoing housing subsidy (HUD), Staying or living with friends, temporary tenure (e.g., room, apartment, or house) (HUD)   \n",
      "17                                            Rental by client, with ongoing housing subsidy (HUD), Psychiatric hospital or other psychiatric facility (HUD), Staying or living with family, temporary tenure (e.g., room, apartment, or house) (HUD)   \n",
      "18                                                                                              Substance abuse treatment facility or detox center (HUD), Substance abuse treatment facility or detox center (HUD), No exit interview completed (HUD)   \n",
      "19                                                                                                                                                                               Rental by client, with ongoing housing subsidy (HUD), Deceased (HUD)   \n",
      "20                                                                 Staying or living with friends, temporary tenure (e.g., room, apartment, or house) (HUD), Staying or living with friends, temporary tenure (e.g., room, apartment, or house) (HUD)   \n",
      "21                                                                                                                         Rental by client, with ongoing housing subsidy (HUD), Hospital or other residential non-psychiatric medical facility (HUD)   \n",
      "22                                                                                                                                                Rental by client, with ongoing housing subsidy (HUD), Long-term care facility or nursing home (HUD)   \n",
      "23                                                                                      Staying or living with family, temporary tenure (e.g., room, apartment, or house) (HUD), Residential project or halfway house with no homeless criteria (HUD)   \n",
      "24                                                                                                      Staying or living with family, temporary tenure (e.g., room, apartment, or house) (HUD), Rental by client, with ongoing housing subsidy (HUD)   \n",
      "25                                                                                                                                            Residential project or halfway house with no homeless criteria (HUD), No exit interview completed (HUD)   \n",
      "26                                                                                                        Staying or living with family, temporary tenure (e.g., room, apartment, or house) (HUD), Rental by client, no ongoing housing subsidy (HUD)   \n",
      "27                                                                                                                                           Rental by client, with ongoing housing subsidy (HUD), Rental by client, no ongoing housing subsidy (HUD)   \n",
      "28                                                                                                                                            Staying or living with family, temporary tenure (e.g., room, apartment, or house) (HUD), Deceased (HUD)   \n",
      "29                                                                                                                                        Staying or living with family, permanent tenure (HUD), Rental by client, with ongoing housing subsidy (HUD)   \n",
      "30                                                                                                                                          Staying or living with family, permanent tenure (HUD), Rental by client, no ongoing housing subsidy (HUD)   \n",
      "31                                                                                                                                                           Staying or living with family, permanent tenure (HUD), No exit interview completed (HUD)   \n",
      "32                                                                                                                                     Rental by client, with ongoing housing subsidy (HUD), Substance abuse treatment facility or detox center (HUD)   \n",
      "33                                                                                                                       Emergency shelter, including hotel or motel paid for with emergency shelter voucher, Host Home shelter (HUD), Deceased (HUD)   \n",
      "34                                                                                                                                         Rental by client, no ongoing housing subsidy (HUD), Staying or living with friends, permanent tenure (HUD)   \n",
      "35                                                                                                    No exit interview completed (HUD), Emergency shelter, including hotel or motel paid for with emergency shelter voucher, Host Home shelter (HUD)   \n",
      "36  Emergency shelter, including hotel or motel paid for with emergency shelter voucher, Host Home shelter (HUD), Place not meant for habitation (e.g., a vehicle, an abandoned building, bus/train/subway station/airport or anywhere outside) (HUD)   \n",
      "37                                                                                   Emergency shelter, including hotel or motel paid for with emergency shelter voucher, Host Home shelter (HUD), Rental by client, no ongoing housing subsidy (HUD)   \n",
      "38                                                                                 Emergency shelter, including hotel or motel paid for with emergency shelter voucher, Host Home shelter (HUD), Rental by client, with ongoing housing subsidy (HUD)   \n",
      "39                                                                                                                           Hospital or other residential non-psychiatric medical facility (HUD), Rental by client, no ongoing housing subsidy (HUD)   \n",
      "40                                                                                                                                Hotel or motel paid for without emergency shelter voucher (HUD), Jail, prison, or juvenile detention facility (HUD)   \n",
      "41                                                                                                                                             Jail, prison, or juvenile detention facility (HUD), Jail, prison, or juvenile detention facility (HUD)   \n",
      "42                                                                                                                                             Jail, prison, or juvenile detention facility (HUD), Rental by client, no ongoing housing subsidy (HUD)   \n",
      "43                                                                                                                                                                                                  No exit interview completed (HUD), Deceased (HUD)   \n",
      "44                                                                 No exit interview completed (HUD), No exit interview completed (HUD), Emergency shelter, including hotel or motel paid for with emergency shelter voucher, Host Home shelter (HUD)   \n",
      "45                                                                                                                           Rental by client, no ongoing housing subsidy (HUD), No exit interview completed (HUD), No exit interview completed (HUD)   \n",
      "46                                                                                                                           No exit interview completed (HUD), No exit interview completed (HUD), Rental by client, no ongoing housing subsidy (HUD)   \n",
      "47         No exit interview completed (HUD), No exit interview completed (HUD), Transitional housing for homeless persons (including homeless youth) (HUD), Staying or living with friends, temporary tenure (e.g., room, apartment, or house) (HUD)   \n",
      "48                                                                                                                                                        No exit interview completed (HUD), Psychiatric hospital or other psychiatric facility (HUD)   \n",
      "49                                                                   No exit interview completed (HUD), Rental by client, with ongoing housing subsidy (HUD), Staying or living with family, temporary tenure (e.g., room, apartment, or house) (HUD)   \n",
      "50                                                                                                                                      No exit interview completed (HUD), Transitional housing for homeless persons (including homeless youth) (HUD)   \n",
      "51                                                                             Place not meant for habitation (e.g., a vehicle, an abandoned building, bus/train/subway station/airport or anywhere outside) (HUD), No exit interview completed (HUD)   \n",
      "52                                                                                                    Emergency shelter, including hotel or motel paid for with emergency shelter voucher, Host Home shelter (HUD), No exit interview completed (HUD)   \n",
      "53                                                                                                                                 Psychiatric hospital or other psychiatric facility (HUD), Psychiatric hospital or other psychiatric facility (HUD)   \n",
      "54                                                                                                                     Transitional housing for homeless persons (including homeless youth) (HUD), Jail, prison, or juvenile detention facility (HUD)   \n",
      "\n",
      "    count  \n",
      "0      65  \n",
      "1      12  \n",
      "2      12  \n",
      "3       8  \n",
      "4       4  \n",
      "5       3  \n",
      "6       3  \n",
      "7       3  \n",
      "8       3  \n",
      "9       2  \n",
      "10      2  \n",
      "11      2  \n",
      "12      2  \n",
      "13      2  \n",
      "14      2  \n",
      "15      2  \n",
      "16      1  \n",
      "17      1  \n",
      "18      1  \n",
      "19      1  \n",
      "20      1  \n",
      "21      1  \n",
      "22      1  \n",
      "23      1  \n",
      "24      1  \n",
      "25      1  \n",
      "26      1  \n",
      "27      1  \n",
      "28      1  \n",
      "29      1  \n",
      "30      1  \n",
      "31      1  \n",
      "32      1  \n",
      "33      1  \n",
      "34      1  \n",
      "35      1  \n",
      "36      1  \n",
      "37      1  \n",
      "38      1  \n",
      "39      1  \n",
      "40      1  \n",
      "41      1  \n",
      "42      1  \n",
      "43      1  \n",
      "44      1  \n",
      "45      1  \n",
      "46      1  \n",
      "47      1  \n",
      "48      1  \n",
      "49      1  \n",
      "50      1  \n",
      "51      1  \n",
      "52      1  \n",
      "53      1  \n",
      "54      1  \n"
     ]
    }
   ],
   "source": [
    "# Set the maximum column width to display long strings fully\n",
    "pd.set_option('display.max_colwidth', None)\n",
    "\n",
    "# Display the dataframe\n",
    "print(prog)"
   ]
  },
  {
   "cell_type": "code",
   "execution_count": 67,
   "metadata": {},
   "outputs": [
    {
     "name": "stdout",
     "output_type": "stream",
     "text": [
      "The prog dataframe has been written to prog_output.csv\n"
     ]
    }
   ],
   "source": [
    "# Write the prog dataframe to a CSV file\n",
    "prog.to_csv(\"prog_output.csv\", index=False)\n",
    "\n",
    "print(\"The prog dataframe has been written to prog_output.csv\")\n"
   ]
  },
  {
   "cell_type": "code",
   "execution_count": 68,
   "metadata": {},
   "outputs": [
    {
     "name": "stdout",
     "output_type": "stream",
     "text": [
      "Most common values in des columns:\n",
      "No exit interview completed (HUD)                                                                                                      205\n",
      "Rental by client, with ongoing housing subsidy (HUD)                                                                                    42\n",
      "Rental by client, no ongoing housing subsidy (HUD)                                                                                      36\n",
      "Jail, prison, or juvenile detention facility (HUD)                                                                                      11\n",
      "Staying or living with family, temporary tenure (e.g., room, apartment, or house) (HUD)                                                  8\n",
      "Emergency shelter, including hotel or motel paid for with emergency shelter voucher, Host Home shelter (HUD)                             7\n",
      "Staying or living with family, permanent tenure (HUD)                                                                                    7\n",
      "Place not meant for habitation (e.g., a vehicle, an abandoned building, bus/train/subway station/airport or anywhere outside) (HUD)      4\n",
      "Psychiatric hospital or other psychiatric facility (HUD)                                                                                 4\n",
      "Staying or living with friends, temporary tenure (e.g., room, apartment, or house) (HUD)                                                 4\n",
      "Deceased (HUD)                                                                                                                           4\n",
      "Transitional housing for homeless persons (including homeless youth) (HUD)                                                               3\n",
      "Substance abuse treatment facility or detox center (HUD)                                                                                 3\n",
      "Hospital or other residential non-psychiatric medical facility (HUD)                                                                     2\n",
      "Residential project or halfway house with no homeless criteria (HUD)                                                                     2\n",
      "Long-term care facility or nursing home (HUD)                                                                                            1\n",
      "Hotel or motel paid for without emergency shelter voucher (HUD)                                                                          1\n",
      "Staying or living with friends, permanent tenure (HUD)                                                                                   1\n",
      "Name: count, dtype: int64\n"
     ]
    }
   ],
   "source": [
    "# Combine all \"des\" columns into a single series\n",
    "all_des = pd.concat([rep[\"des_1\"], rep[\"des_2\"], rep[\"des_3\"], rep[\"des_4\"]])\n",
    "\n",
    "# Drop missing values\n",
    "all_des = all_des.dropna()\n",
    "\n",
    "# Get the most common values\n",
    "most_common_des = all_des.value_counts()\n",
    "\n",
    "# Display the most common values\n",
    "print(\"Most common values in des columns:\")\n",
    "print(most_common_des)\n"
   ]
  },
  {
   "cell_type": "code",
   "execution_count": 69,
   "metadata": {},
   "outputs": [
    {
     "name": "stdout",
     "output_type": "stream",
     "text": [
      "Most common values in des_1:\n",
      "des_1\n",
      "No exit interview completed (HUD)                                                                                                      109\n",
      "Rental by client, no ongoing housing subsidy (HUD)                                                                                      15\n",
      "Rental by client, with ongoing housing subsidy (HUD)                                                                                    15\n",
      "Jail, prison, or juvenile detention facility (HUD)                                                                                       5\n",
      "Emergency shelter, including hotel or motel paid for with emergency shelter voucher, Host Home shelter (HUD)                             5\n",
      "Staying or living with family, temporary tenure (e.g., room, apartment, or house) (HUD)                                                  4\n",
      "Place not meant for habitation (e.g., a vehicle, an abandoned building, bus/train/subway station/airport or anywhere outside) (HUD)      3\n",
      "Staying or living with family, permanent tenure (HUD)                                                                                    3\n",
      "Hotel or motel paid for without emergency shelter voucher (HUD)                                                                          1\n",
      "Psychiatric hospital or other psychiatric facility (HUD)                                                                                 1\n",
      "Hospital or other residential non-psychiatric medical facility (HUD)                                                                     1\n",
      "Transitional housing for homeless persons (including homeless youth) (HUD)                                                               1\n",
      "Substance abuse treatment facility or detox center (HUD)                                                                                 1\n",
      "Staying or living with friends, temporary tenure (e.g., room, apartment, or house) (HUD)                                                 1\n",
      "Residential project or halfway house with no homeless criteria (HUD)                                                                     1\n",
      "Name: count, dtype: int64\n"
     ]
    }
   ],
   "source": [
    "# Get the most common values in \"des_1\"\n",
    "most_common_des_1 = rep[\"des_1\"].value_counts()\n",
    "\n",
    "# Display the most common values\n",
    "print(\"Most common values in des_1:\")\n",
    "print(most_common_des_1)\n"
   ]
  },
  {
   "cell_type": "code",
   "execution_count": 70,
   "metadata": {},
   "outputs": [
    {
     "name": "stdout",
     "output_type": "stream",
     "text": [
      "Most common values in des_2:\n",
      "des_2\n",
      "No exit interview completed (HUD)                                                                                                      92\n",
      "Rental by client, with ongoing housing subsidy (HUD)                                                                                   24\n",
      "Rental by client, no ongoing housing subsidy (HUD)                                                                                     20\n",
      "Jail, prison, or juvenile detention facility (HUD)                                                                                      6\n",
      "Deceased (HUD)                                                                                                                          4\n",
      "Staying or living with family, permanent tenure (HUD)                                                                                   4\n",
      "Psychiatric hospital or other psychiatric facility (HUD)                                                                                3\n",
      "Staying or living with family, temporary tenure (e.g., room, apartment, or house) (HUD)                                                 2\n",
      "Substance abuse treatment facility or detox center (HUD)                                                                                2\n",
      "Staying or living with friends, temporary tenure (e.g., room, apartment, or house) (HUD)                                                2\n",
      "Long-term care facility or nursing home (HUD)                                                                                           1\n",
      "Staying or living with friends, permanent tenure (HUD)                                                                                  1\n",
      "Transitional housing for homeless persons (including homeless youth) (HUD)                                                              1\n",
      "Hospital or other residential non-psychiatric medical facility (HUD)                                                                    1\n",
      "Place not meant for habitation (e.g., a vehicle, an abandoned building, bus/train/subway station/airport or anywhere outside) (HUD)     1\n",
      "Emergency shelter, including hotel or motel paid for with emergency shelter voucher, Host Home shelter (HUD)                            1\n",
      "Residential project or halfway house with no homeless criteria (HUD)                                                                    1\n",
      "Name: count, dtype: int64\n"
     ]
    }
   ],
   "source": [
    "most_common_des_2 = rep[\"des_2\"].value_counts()\n",
    "\n",
    "# Display the most common values\n",
    "print(\"Most common values in des_2:\")\n",
    "print(most_common_des_2)\n"
   ]
  },
  {
   "cell_type": "code",
   "execution_count": 71,
   "metadata": {},
   "outputs": [
    {
     "name": "stdout",
     "output_type": "stream",
     "text": [
      "Most common values in des_3:\n",
      "des_3\n",
      "No exit interview completed (HUD)                                                                               4\n",
      "Rental by client, with ongoing housing subsidy (HUD)                                                            3\n",
      "Staying or living with family, temporary tenure (e.g., room, apartment, or house) (HUD)                         2\n",
      "Emergency shelter, including hotel or motel paid for with emergency shelter voucher, Host Home shelter (HUD)    1\n",
      "Transitional housing for homeless persons (including homeless youth) (HUD)                                      1\n",
      "Rental by client, no ongoing housing subsidy (HUD)                                                              1\n",
      "Name: count, dtype: int64\n"
     ]
    }
   ],
   "source": [
    "most_common_des_3 = rep[\"des_3\"].value_counts()\n",
    "\n",
    "# Display the most common values\n",
    "print(\"Most common values in des_3:\")\n",
    "print(most_common_des_3)\n"
   ]
  },
  {
   "cell_type": "code",
   "execution_count": 72,
   "metadata": {},
   "outputs": [
    {
     "name": "stdout",
     "output_type": "stream",
     "text": [
      "Most common values in des_4:\n",
      "des_4\n",
      "Staying or living with friends, temporary tenure (e.g., room, apartment, or house) (HUD)    1\n",
      "Name: count, dtype: int64\n"
     ]
    }
   ],
   "source": [
    "most_common_des_4 = rep[\"des_4\"].value_counts()\n",
    "\n",
    "# Display the most common values\n",
    "print(\"Most common values in des_4:\")\n",
    "print(most_common_des_4)\n"
   ]
  },
  {
   "cell_type": "code",
   "execution_count": 73,
   "metadata": {},
   "outputs": [
    {
     "name": "stdout",
     "output_type": "stream",
     "text": [
      "      HMIS ID  \\\n",
      "0      209226   \n",
      "1      164401   \n",
      "2      167202   \n",
      "3      166440   \n",
      "4      167814   \n",
      "...       ...   \n",
      "1560   191550   \n",
      "1561   172577   \n",
      "1562   203266   \n",
      "1563   202076   \n",
      "1564   197230   \n",
      "\n",
      "                                                          Entry/Exit Destination  \\\n",
      "0                                                      Client doesn't know (HUD)   \n",
      "1                                                                 Deceased (HUD)   \n",
      "2                                                                 Deceased (HUD)   \n",
      "3                                                                 Deceased (HUD)   \n",
      "4                                                                 Deceased (HUD)   \n",
      "...                                                                          ...   \n",
      "1560  Transitional housing for homeless persons (including homeless youth) (HUD)   \n",
      "1561  Transitional housing for homeless persons (including homeless youth) (HUD)   \n",
      "1562  Transitional housing for homeless persons (including homeless youth) (HUD)   \n",
      "1563  Transitional housing for homeless persons (including homeless youth) (HUD)   \n",
      "1564  Transitional housing for homeless persons (including homeless youth) (HUD)   \n",
      "\n",
      "     Entry Date  Exit Date  Days to Destination    Veteran Date of Birth  Age  \\\n",
      "0    2024-09-12 2024-10-01                   19   No (HUD)    1975-06-16   49   \n",
      "1    2024-01-17 2024-04-15                   89   No (HUD)    1961-08-26   63   \n",
      "2    2021-10-30 2022-11-07                  373   No (HUD)    1994-04-26   30   \n",
      "3    2022-12-07 2024-04-01                  481   No (HUD)    1996-07-23   28   \n",
      "4    2023-05-12 2023-07-15                   64  Yes (HUD)    1961-12-26   62   \n",
      "...         ...        ...                  ...        ...           ...  ...   \n",
      "1560 2022-08-11 2024-01-12                  519  Yes (HUD)    1976-07-15   48   \n",
      "1561 2023-09-12 2023-11-08                   57   No (HUD)    1964-04-12   60   \n",
      "1562 2023-11-21 2024-03-01                  101   No (HUD)    2005-05-19   19   \n",
      "1563 2023-10-04 2023-10-27                   23  Yes (HUD)    1959-07-30   65   \n",
      "1564 2023-04-12 2023-06-16                   65  Yes (HUD)    1952-01-15   72   \n",
      "\n",
      "           Household Type Pregnant                Chronicity  \\\n",
      "0              Individual       No  Data not collected (HUD)   \n",
      "1              Individual      NaN                 Yes (HUD)   \n",
      "2              Individual      NaN                  No (HUD)   \n",
      "3              Individual       No                  No (HUD)   \n",
      "4              Individual      NaN                  No (HUD)   \n",
      "...                   ...      ...                       ...   \n",
      "1560           Individual       No                  No (HUD)   \n",
      "1561           Individual       No                  No (HUD)   \n",
      "1562  Youth (Age 18 - 24)       No                  No (HUD)   \n",
      "1563           Individual       No                  No (HUD)   \n",
      "1564           Individual       No                  No (HUD)   \n",
      "\n",
      "                                           Race (Retired)  \\\n",
      "0                                                     NaN   \n",
      "1                                             White (HUD)   \n",
      "2                                             White (HUD)   \n",
      "3                                             White (HUD)   \n",
      "4                           Asian or Asian American (HUD)   \n",
      "...                                                   ...   \n",
      "1560  American Indian, Alaska Native, or Indigenous (HUD)   \n",
      "1561                                          White (HUD)   \n",
      "1562                                                  NaN   \n",
      "1563                                 Client refused (HUD)   \n",
      "1564                                          White (HUD)   \n",
      "\n",
      "                        Ethnicity (Retired)  \n",
      "0                                       NaN  \n",
      "1                                       NaN  \n",
      "2     Non-Hispanic/Non-Latin(a)(o)(x) (HUD)  \n",
      "3     Non-Hispanic/Non-Latin(a)(o)(x) (HUD)  \n",
      "4     Non-Hispanic/Non-Latin(a)(o)(x) (HUD)  \n",
      "...                                     ...  \n",
      "1560          Hispanic/Latin(a)(o)(x) (HUD)  \n",
      "1561  Non-Hispanic/Non-Latin(a)(o)(x) (HUD)  \n",
      "1562                                    NaN  \n",
      "1563                   Client refused (HUD)  \n",
      "1564  Non-Hispanic/Non-Latin(a)(o)(x) (HUD)  \n",
      "\n",
      "[1565 rows x 13 columns]\n"
     ]
    }
   ],
   "source": [
    "# Identify \"HMIS ID\" values that appear in \"repeat\"\n",
    "repeat_ids = repeat[\"HMIS ID\"].unique()\n",
    "\n",
    "# Filter \"dest\" to exclude rows with \"HMIS ID\" in \"repeat\"\n",
    "single = dest[~dest[\"HMIS ID\"].isin(repeat_ids)].reset_index(drop=True)\n",
    "\n",
    "# Display the resulting dataframe\n",
    "print(single)\n"
   ]
  },
  {
   "cell_type": "code",
   "execution_count": 74,
   "metadata": {},
   "outputs": [
    {
     "name": "stdout",
     "output_type": "stream",
     "text": [
      "Most common 'Entry/Exit Destination' values in 'single':\n",
      "Entry/Exit Destination\n",
      "No exit interview completed (HUD)                                                                                                      1094\n",
      "Rental by client, with ongoing housing subsidy (HUD)                                                                                    141\n",
      "Rental by client, no ongoing housing subsidy (HUD)                                                                                       99\n",
      "Emergency shelter, including hotel or motel paid for with emergency shelter voucher, Host Home shelter (HUD)                             30\n",
      "Staying or living with family, permanent tenure (HUD)                                                                                    27\n",
      "Deceased (HUD)                                                                                                                           25\n",
      "Jail, prison, or juvenile detention facility (HUD)                                                                                       22\n",
      "Staying or living with family, temporary tenure (e.g., room, apartment, or house) (HUD)                                                  19\n",
      "Substance abuse treatment facility or detox center (HUD)                                                                                 16\n",
      "Place not meant for habitation (e.g., a vehicle, an abandoned building, bus/train/subway station/airport or anywhere outside) (HUD)      14\n",
      "Staying or living with friends, permanent tenure (HUD)                                                                                   14\n",
      "Residential project or halfway house with no homeless criteria (HUD)                                                                     13\n",
      "Psychiatric hospital or other psychiatric facility (HUD)                                                                                 10\n",
      "Staying or living with friends, temporary tenure (e.g., room, apartment, or house) (HUD)                                                  9\n",
      "Long-term care facility or nursing home (HUD)                                                                                             9\n",
      "Transitional housing for homeless persons (including homeless youth) (HUD)                                                                7\n",
      "Owned by client, no ongoing housing subsidy (HUD)                                                                                         5\n",
      "Hotel or motel paid for without emergency shelter voucher (HUD)                                                                           4\n",
      "Hospital or other residential non-psychiatric medical facility (HUD)                                                                      4\n",
      "Foster care home or foster care group home (HUD)                                                                                          2\n",
      "Client doesn't know (HUD)                                                                                                                 1\n",
      "Name: count, dtype: int64\n"
     ]
    }
   ],
   "source": [
    "# Get the most common values for \"Entry/Exit Destination\" in repeat\n",
    "common_destinations = single[\"Entry/Exit Destination\"].value_counts()\n",
    "\n",
    "# Display the most common values and their counts\n",
    "print(\"Most common 'Entry/Exit Destination' values in 'single':\")\n",
    "print(common_destinations)\n"
   ]
  },
  {
   "cell_type": "code",
   "execution_count": 75,
   "metadata": {},
   "outputs": [
    {
     "name": "stdout",
     "output_type": "stream",
     "text": [
      "The 'rep' dataframe contains 166 rows.\n"
     ]
    }
   ],
   "source": [
    "row_count = len(rep)\n",
    "print(f\"The 'rep' dataframe contains {row_count} rows.\")\n"
   ]
  },
  {
   "cell_type": "code",
   "execution_count": 76,
   "metadata": {},
   "outputs": [
    {
     "name": "stdout",
     "output_type": "stream",
     "text": [
      "The number of rows in 'rep' with 'Yes (HUD)' in the 'chronic' column is: 17\n"
     ]
    }
   ],
   "source": [
    "# Count rows where the column \"chronic\" contains \"Yes (HUD)\"\n",
    "chronic_yes_count = (rep[\"chronic\"] == \"Yes (HUD)\").sum()\n",
    "\n",
    "print(f\"The number of rows in 'rep' with 'Yes (HUD)' in the 'chronic' column is: {chronic_yes_count}\")\n"
   ]
  },
  {
   "cell_type": "code",
   "execution_count": 77,
   "metadata": {},
   "outputs": [
    {
     "name": "stdout",
     "output_type": "stream",
     "text": [
      "The number of rows in 'single' with 'Yes (HUD)' in the 'Chronicity' column is: 94\n"
     ]
    }
   ],
   "source": [
    "# Count rows where the column \"Chronicity\" contains \"Yes (HUD)\"\n",
    "chronicity_yes_count = (single[\"Chronicity\"] == \"Yes (HUD)\").sum()\n",
    "\n",
    "print(f\"The number of rows in 'single' with 'Yes (HUD)' in the 'Chronicity' column is: {chronicity_yes_count}\")\n"
   ]
  },
  {
   "cell_type": "code",
   "execution_count": 78,
   "metadata": {},
   "outputs": [
    {
     "name": "stdout",
     "output_type": "stream",
     "text": [
      "Index(['HMIS ID', 'Entry/Exit Destination', 'Entry Date', 'Exit Date',\n",
      "       'Days to Destination', 'Veteran', 'Date of Birth', 'Age',\n",
      "       'Household Type', 'Pregnant', 'Chronicity', 'Race (Retired)',\n",
      "       'Ethnicity (Retired)'],\n",
      "      dtype='object')\n"
     ]
    }
   ],
   "source": [
    "print(single.columns)"
   ]
  },
  {
   "cell_type": "code",
   "execution_count": 79,
   "metadata": {},
   "outputs": [
    {
     "name": "stdout",
     "output_type": "stream",
     "text": [
      "The average length of time between 'Entry Date' and 'Exit Date' is: 240.79 days.\n"
     ]
    }
   ],
   "source": [
    "# Ensure \"entry_1\" and \"exit_1\" are datetime objects\n",
    "single[\"Entry Date\"] = pd.to_datetime(single[\"Entry Date\"])\n",
    "single[\"Exit Date\"] = pd.to_datetime(single[\"Exit Date\"])\n",
    "\n",
    "# Calculate the time difference in days\n",
    "single[\"duration\"] = (single[\"Exit Date\"] - single[\"Entry Date\"]).dt.days\n",
    "\n",
    "# Compute the average duration\n",
    "average_duration = single[\"duration\"].mean()\n",
    "\n",
    "print(f\"The average length of time between 'Entry Date' and 'Exit Date' is: {average_duration:.2f} days.\")"
   ]
  },
  {
   "cell_type": "code",
   "execution_count": 80,
   "metadata": {},
   "outputs": [
    {
     "name": "stdout",
     "output_type": "stream",
     "text": [
      "      HMIS ID                              Entry/Exit Destination Entry Date  \\\n",
      "0      209226                           Client doesn't know (HUD) 2024-09-12   \n",
      "1      164401                                      Deceased (HUD) 2024-01-17   \n",
      "2      167202                                      Deceased (HUD) 2021-10-30   \n",
      "3      166440                                      Deceased (HUD) 2022-12-07   \n",
      "4      167814                                      Deceased (HUD) 2023-05-12   \n",
      "...       ...                                                 ...        ...   \n",
      "1726   201293  Rental by client, no ongoing housing subsidy (HUD) 2023-08-31   \n",
      "1727   201294  Rental by client, no ongoing housing subsidy (HUD) 2023-08-31   \n",
      "1728   202261                   No exit interview completed (HUD) 2023-10-12   \n",
      "1729   202778                   No exit interview completed (HUD) 2023-11-01   \n",
      "1730   205388  Jail, prison, or juvenile detention facility (HUD) 2024-02-23   \n",
      "\n",
      "      Exit Date  Days to Destination    Veteran Date of Birth  Age  \\\n",
      "0    2024-10-01                   19   No (HUD)    1975-06-16   49   \n",
      "1    2024-04-15                   89   No (HUD)    1961-08-26   63   \n",
      "2    2022-11-07                  373   No (HUD)    1994-04-26   30   \n",
      "3    2024-04-01                  481   No (HUD)    1996-07-23   28   \n",
      "4    2023-07-15                   64  Yes (HUD)    1961-12-26   62   \n",
      "...         ...                  ...        ...           ...  ...   \n",
      "1726 2023-09-15                   15        NaN           NaT  124   \n",
      "1727 2023-09-15                   15        NaN    1983-09-27   41   \n",
      "1728 2024-02-02                  113   No (HUD)    1982-06-14   42   \n",
      "1729 2024-04-08                  159        NaN    1988-12-29   35   \n",
      "1730 2024-04-29                   66  Yes (HUD)    1984-12-02   40   \n",
      "\n",
      "     Household Type Pregnant                Chronicity  \\\n",
      "0        Individual       No  Data not collected (HUD)   \n",
      "1        Individual      NaN                 Yes (HUD)   \n",
      "2        Individual      NaN                  No (HUD)   \n",
      "3        Individual       No                  No (HUD)   \n",
      "4        Individual      NaN                  No (HUD)   \n",
      "...             ...      ...                       ...   \n",
      "1726     Individual      NaN  Data not collected (HUD)   \n",
      "1727     Individual      NaN  Data not collected (HUD)   \n",
      "1728     Individual       No                  No (HUD)   \n",
      "1729     Individual       No                  No (HUD)   \n",
      "1730     Individual       No                  No (HUD)   \n",
      "\n",
      "                     Race (Retired)                    Ethnicity (Retired)  \n",
      "0                               NaN                                    NaN  \n",
      "1                       White (HUD)                                    NaN  \n",
      "2                       White (HUD)  Non-Hispanic/Non-Latin(a)(o)(x) (HUD)  \n",
      "3                       White (HUD)  Non-Hispanic/Non-Latin(a)(o)(x) (HUD)  \n",
      "4     Asian or Asian American (HUD)  Non-Hispanic/Non-Latin(a)(o)(x) (HUD)  \n",
      "...                             ...                                    ...  \n",
      "1726                            NaN                                    NaN  \n",
      "1727                    White (HUD)                                    NaN  \n",
      "1728                            NaN                                    NaN  \n",
      "1729                            NaN                                    NaN  \n",
      "1730                            NaN                                    NaN  \n",
      "\n",
      "[1731 rows x 13 columns]\n"
     ]
    }
   ],
   "source": [
    "# Ensure \"Entry Date\" is in datetime format\n",
    "dest[\"Entry Date\"] = pd.to_datetime(dest[\"Entry Date\"])\n",
    "\n",
    "# Identify rows where \"HMIS ID\" is not duplicated\n",
    "non_duplicates = dest[~dest[\"HMIS ID\"].duplicated(keep=False)]\n",
    "\n",
    "# Identify the earliest row for each group of duplicate \"HMIS ID\" values\n",
    "duplicates_earliest = (\n",
    "    dest[dest[\"HMIS ID\"].duplicated(keep=False)]  # Select duplicated rows\n",
    "    .sort_values(by=[\"HMIS ID\", \"Entry Date\"])    # Sort by \"HMIS ID\" and \"Entry Date\"\n",
    "    .drop_duplicates(subset=\"HMIS ID\", keep=\"first\")  # Keep the earliest row for each \"HMIS ID\"\n",
    ")\n",
    "\n",
    "# Combine non-duplicates and earliest duplicates\n",
    "pop = pd.concat([non_duplicates, duplicates_earliest]).reset_index(drop=True)\n",
    "\n",
    "# Display the resulting dataframe\n",
    "print(pop)\n"
   ]
  },
  {
   "cell_type": "code",
   "execution_count": 83,
   "metadata": {},
   "outputs": [
    {
     "name": "stdout",
     "output_type": "stream",
     "text": [
      "Index(['HMIS ID', 'Entry/Exit Destination', 'Entry Date', 'Exit Date',\n",
      "       'Days to Destination', 'Veteran', 'Date of Birth', 'Age',\n",
      "       'Household Type', 'Pregnant', 'Chronicity', 'Race (Retired)',\n",
      "       'Ethnicity (Retired)'],\n",
      "      dtype='object')\n",
      "Index(['hmis_id', 'repeats', 'entry_1', 'exit_1', 'entry_2', 'exit_2',\n",
      "       'entry_3', 'exit_3', 'entry_4', 'exit_4', 'des_1', 'des_2', 'des_3',\n",
      "       'des_4', 'veteran', 'd_o_b', 'household', 'pregnant', 'chronic', 'race',\n",
      "       'ethn', 'age', 'time_diff', 'prog', 'duration'],\n",
      "      dtype='object')\n"
     ]
    }
   ],
   "source": [
    "print(pop.columns)\n",
    "print(rep.columns)"
   ]
  },
  {
   "cell_type": "code",
   "execution_count": 82,
   "metadata": {},
   "outputs": [
    {
     "name": "stdout",
     "output_type": "stream",
     "text": [
      "The average value for 'Days to Destination' in 'pop' is: 251.67 days.\n"
     ]
    }
   ],
   "source": [
    "# Calculate the average value for \"Days to Destination\"\n",
    "average_days_to_destination = pop[\"Days to Destination\"].mean()\n",
    "\n",
    "print(f\"The average value for 'Days to Destination' in 'pop' is: {average_days_to_destination:.2f} days.\")\n"
   ]
  },
  {
   "cell_type": "code",
   "execution_count": 84,
   "metadata": {},
   "outputs": [
    {
     "name": "stdout",
     "output_type": "stream",
     "text": [
      "Number of each unique value for 'veteran' in 'rep':\n",
      "veteran\n",
      "No (HUD)                    137\n",
      "Yes (HUD)                    21\n",
      "Data not collected (HUD)      2\n",
      "Name: count, dtype: int64\n"
     ]
    }
   ],
   "source": [
    "# Count the occurrences of each unique value in the \"veteran\" column\n",
    "veteran_counts = rep[\"veteran\"].value_counts()\n",
    "\n",
    "print(\"Number of each unique value for 'veteran' in 'rep':\")\n",
    "print(veteran_counts)\n"
   ]
  },
  {
   "cell_type": "code",
   "execution_count": 85,
   "metadata": {},
   "outputs": [
    {
     "name": "stdout",
     "output_type": "stream",
     "text": [
      "Number of each unique value for 'veteran' in 'pop':\n",
      "Veteran\n",
      "No (HUD)                              1438\n",
      "Yes (HUD)                              214\n",
      "Client prefers not to answer (HUD)      20\n",
      "Data not collected (HUD)                11\n",
      "Client doesn't know (HUD)                1\n",
      "Name: count, dtype: int64\n"
     ]
    }
   ],
   "source": [
    "# Count the occurrences of each unique value in the \"veteran\" column\n",
    "veteran_counts = pop[\"Veteran\"].value_counts()\n",
    "\n",
    "print(\"Number of each unique value for 'veteran' in 'pop':\")\n",
    "print(veteran_counts)\n"
   ]
  }
 ],
 "metadata": {
  "kernelspec": {
   "display_name": "Python 3",
   "language": "python",
   "name": "python3"
  },
  "language_info": {
   "codemirror_mode": {
    "name": "ipython",
    "version": 3
   },
   "file_extension": ".py",
   "mimetype": "text/x-python",
   "name": "python",
   "nbconvert_exporter": "python",
   "pygments_lexer": "ipython3",
   "version": "3.12.2"
  }
 },
 "nbformat": 4,
 "nbformat_minor": 2
}
