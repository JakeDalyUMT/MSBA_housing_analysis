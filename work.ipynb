{
 "cells": [
  {
   "cell_type": "code",
   "execution_count": 26,
   "metadata": {},
   "outputs": [],
   "source": [
    "import pandas as pd\n",
    "import statsmodels.api as sm\n",
    "\n"
   ]
  },
  {
   "cell_type": "code",
   "execution_count": 28,
   "metadata": {},
   "outputs": [],
   "source": [
    "dest = pd.read_excel(r\"C:\\Users\\jacob\\OneDrive\\Desktop\\Fall 2024\\Telling Stories\\housing_report\\report-data-2024\\Destinations_10.29.22-10.29.2024.xlsx\")\n",
    "hsf = pd.read_excel(r\"C:\\Users\\jacob\\OneDrive\\Desktop\\Fall 2024\\Telling Stories\\housing_report\\report-data-2024\\Housing Solutions Fund.xlsx\")\n",
    "mces = pd.read_excel(r\"C:\\Users\\jacob\\OneDrive\\Desktop\\Fall 2024\\Telling Stories\\housing_report\\report-data-2024\\MCES_Whole_1.1.19-10.29.24.xlsx\")\n"
   ]
  },
  {
   "cell_type": "code",
   "execution_count": 9,
   "metadata": {},
   "outputs": [
    {
     "name": "stdout",
     "output_type": "stream",
     "text": [
      "Index(['HMIS ID', 'Entry/Exit Destination', 'Entry Date', 'Exit Date',\n",
      "       'Days to Destination', 'Veteran', 'Date of Birth', 'Age',\n",
      "       'Household Type', 'Pregnant', 'Chronicity', 'Race (Retired)',\n",
      "       'Ethnicity (Retired)'],\n",
      "      dtype='object')\n",
      "Index(['HMIS #', 'Race', 'Hispanic/Latino', 'Total paid', 'Funding Source',\n",
      "       'Date of payment', 'Referral from', 'Paid to:', 'What for?',\n",
      "       'Prevention or Literally Homeless', 'Household Type', 'Income Range'],\n",
      "      dtype='object')\n",
      "Index(['HMIS Client Identifier', 'Active ROI', 'Household Type',\n",
      "       'Veteran Status', 'Date Identified', 'Chronic Status', 'Pregnant',\n",
      "       'Substance Use', 'MAP Assessment Score', 'Assessment Date', 'Age',\n",
      "       'DV in past 2 years', 'Foster Care History',\n",
      "       'Enrolled Member or First Descendent', 'Which Tribe?', 'Gender',\n",
      "       'Race and Ethnicity', 'Additional Race and Ethnicity Detail',\n",
      "       'Last Contact Date', 'vInclude Row - active'],\n",
      "      dtype='object')\n"
     ]
    }
   ],
   "source": [
    "print(dest.columns)\n",
    "print(hsf.columns)\n",
    "print(mces.columns)"
   ]
  },
  {
   "cell_type": "code",
   "execution_count": 10,
   "metadata": {},
   "outputs": [
    {
     "name": "stdout",
     "output_type": "stream",
     "text": [
      "  HMIS_ID                             Entry/Exit Destination Entry Date  \\\n",
      "0  169580                                     Deceased (HUD) 2022-02-09   \n",
      "1  169580                                     Deceased (HUD) 2022-02-09   \n",
      "2  197229  Emergency shelter, including hotel or motel pa... 2023-04-12   \n",
      "3  195043   Foster care home or foster care group home (HUD) 2023-01-17   \n",
      "4  162438  Jail, prison, or juvenile detention facility (... 2021-11-16   \n",
      "\n",
      "   Exit Date  Days to Destination    Veteran Date of Birth  Age_x  \\\n",
      "0 2023-05-30                  475  Yes (HUD)    1958-06-18     66   \n",
      "1 2023-05-30                  475  Yes (HUD)    1958-06-18     66   \n",
      "2 2024-03-26                  349   No (HUD)    1972-03-16     52   \n",
      "3 2023-05-02                  105   No (HUD)    1969-10-06     55   \n",
      "4 2023-12-08                  752   No (HUD)    1987-05-03     37   \n",
      "\n",
      "  Household Type_x Pregnant_x  ... Age_y DV in past 2 years  \\\n",
      "0       Individual         No  ...  66.0                Yes   \n",
      "1       Individual         No  ...  66.0                NaN   \n",
      "2       Individual         No  ...  52.0                 No   \n",
      "3       Individual         No  ...  55.0                Yes   \n",
      "4       Individual         No  ...  37.0                NaN   \n",
      "\n",
      "  Foster Care History Enrolled Member or First Descendent    Which Tribe?  \\\n",
      "0                  No                                 NaN  Not Applicable   \n",
      "1                 NaN                                 NaN             NaN   \n",
      "2                 Yes                                  No             NaN   \n",
      "3                  No                                 Yes       Blackfeet   \n",
      "4                 NaN                                 NaN             NaN   \n",
      "\n",
      "                   Gender                             Race and Ethnicity  \\\n",
      "0     Man (Boy, if child)                                          White   \n",
      "1     Man (Boy, if child)                                          White   \n",
      "2  Woman (Girl, if child)                                          White   \n",
      "3     Man (Boy, if child)  American Indian, Alaska Native, or Indigenous   \n",
      "4     Man (Boy, if child)                             Data not collected   \n",
      "\n",
      "  Additional Race and Ethnicity Detail       Last Contact Date  \\\n",
      "0                                  NaN 2023-05-27 16:31:38.579   \n",
      "1                                  NaN 2023-05-27 16:31:38.579   \n",
      "2                                  NaN 2024-10-11 13:00:00.000   \n",
      "3                                  NaN 2023-04-25 14:46:01.463   \n",
      "4                                  NaN 2024-10-24 21:01:42.000   \n",
      "\n",
      "  vInclude Row - active  \n",
      "0                     1  \n",
      "1                     1  \n",
      "2                     1  \n",
      "3                     1  \n",
      "4                     1  \n",
      "\n",
      "[5 rows x 43 columns]\n"
     ]
    }
   ],
   "source": [
    "# Standardize column names\n",
    "dest.rename(columns={'HMIS ID': 'HMIS_ID'}, inplace=True)\n",
    "hsf.rename(columns={'HMIS #': 'HMIS_ID'}, inplace=True)\n",
    "mces.rename(columns={'HMIS Client Identifier': 'HMIS_ID'}, inplace=True)\n",
    "\n",
    "# Merge the DataFrames\n",
    "big_df = dest.merge(hsf, on='HMIS_ID', how='inner') \\\n",
    "             .merge(mces, on='HMIS_ID', how='inner')\n",
    "\n",
    "# Check the resulting DataFrame\n",
    "print(big_df.head())\n"
   ]
  },
  {
   "cell_type": "code",
   "execution_count": 11,
   "metadata": {},
   "outputs": [
    {
     "name": "stdout",
     "output_type": "stream",
     "text": [
      "['Deceased (HUD)'\n",
      " 'Emergency shelter, including hotel or motel paid for with emergency shelter voucher, Host Home shelter (HUD)'\n",
      " 'Foster care home or foster care group home (HUD)'\n",
      " 'Jail, prison, or juvenile detention facility (HUD)'\n",
      " 'No exit interview completed (HUD)'\n",
      " 'Place not meant for habitation (e.g., a vehicle, an abandoned building, bus/train/subway station/airport or anywhere outside) (HUD)'\n",
      " 'Psychiatric hospital or other psychiatric facility (HUD)'\n",
      " 'Rental by client, no ongoing housing subsidy (HUD)'\n",
      " 'Rental by client, with ongoing housing subsidy (HUD)'\n",
      " 'Staying or living with family, permanent tenure (HUD)'\n",
      " 'Staying or living with family, temporary tenure (e.g., room, apartment, or house) (HUD)'\n",
      " 'Staying or living with friends, permanent tenure (HUD)'\n",
      " 'Staying or living with friends, temporary tenure (e.g., room, apartment, or house) (HUD)'\n",
      " 'Transitional housing for homeless persons (including homeless youth) (HUD)']\n"
     ]
    }
   ],
   "source": [
    "# Get all distinct values in the 'Entry/Exit Destination' column\n",
    "distinct_values = big_df['Entry/Exit Destination'].unique()\n",
    "\n",
    "# Print the distinct values\n",
    "print(distinct_values)\n"
   ]
  },
  {
   "cell_type": "code",
   "execution_count": 12,
   "metadata": {},
   "outputs": [
    {
     "name": "stdout",
     "output_type": "stream",
     "text": [
      "  HMIS_ID                             Entry/Exit Destination Entry Date  \\\n",
      "0  169580                                     Deceased (HUD) 2022-02-09   \n",
      "1  169580                                     Deceased (HUD) 2022-02-09   \n",
      "2  197229  Emergency shelter, including hotel or motel pa... 2023-04-12   \n",
      "3  195043   Foster care home or foster care group home (HUD) 2023-01-17   \n",
      "4  162438  Jail, prison, or juvenile detention facility (... 2021-11-16   \n",
      "\n",
      "   Exit Date  Days to Destination    Veteran Date of Birth  Age_x  \\\n",
      "0 2023-05-30                  475  Yes (HUD)    1958-06-18     66   \n",
      "1 2023-05-30                  475  Yes (HUD)    1958-06-18     66   \n",
      "2 2024-03-26                  349   No (HUD)    1972-03-16     52   \n",
      "3 2023-05-02                  105   No (HUD)    1969-10-06     55   \n",
      "4 2023-12-08                  752   No (HUD)    1987-05-03     37   \n",
      "\n",
      "  Household Type_x Pregnant_x  ... Age_y DV in past 2 years  \\\n",
      "0       Individual         No  ...  66.0                Yes   \n",
      "1       Individual         No  ...  66.0                NaN   \n",
      "2       Individual         No  ...  52.0                 No   \n",
      "3       Individual         No  ...  55.0                Yes   \n",
      "4       Individual         No  ...  37.0                NaN   \n",
      "\n",
      "  Foster Care History Enrolled Member or First Descendent    Which Tribe?  \\\n",
      "0                  No                                 NaN  Not Applicable   \n",
      "1                 NaN                                 NaN             NaN   \n",
      "2                 Yes                                  No             NaN   \n",
      "3                  No                                 Yes       Blackfeet   \n",
      "4                 NaN                                 NaN             NaN   \n",
      "\n",
      "                   Gender                             Race and Ethnicity  \\\n",
      "0     Man (Boy, if child)                                          White   \n",
      "1     Man (Boy, if child)                                          White   \n",
      "2  Woman (Girl, if child)                                          White   \n",
      "3     Man (Boy, if child)  American Indian, Alaska Native, or Indigenous   \n",
      "4     Man (Boy, if child)                             Data not collected   \n",
      "\n",
      "  Additional Race and Ethnicity Detail       Last Contact Date  \\\n",
      "0                                  NaN 2023-05-27 16:31:38.579   \n",
      "1                                  NaN 2023-05-27 16:31:38.579   \n",
      "2                                  NaN 2024-10-11 13:00:00.000   \n",
      "3                                  NaN 2023-04-25 14:46:01.463   \n",
      "4                                  NaN 2024-10-24 21:01:42.000   \n",
      "\n",
      "  vInclude Row - active  \n",
      "0                     1  \n",
      "1                     1  \n",
      "2                     1  \n",
      "3                     1  \n",
      "4                     1  \n",
      "\n",
      "[5 rows x 43 columns]\n"
     ]
    }
   ],
   "source": [
    "# Create the \"exit\" DataFrame by filtering rows\n",
    "exit = big_df[\n",
    "    (big_df['Entry/Exit Destination'] != \"No exit interview completed (HUD)\") &\n",
    "    (big_df['Entry/Exit Destination'].notna()) &  # Exclude blank (NaN) values\n",
    "    (big_df['Entry/Exit Destination'] != \"\")      # Exclude empty string values\n",
    "]\n",
    "\n",
    "# Check the first few rows of the \"exit\" DataFrame\n",
    "print(exit.head())\n"
   ]
  },
  {
   "cell_type": "code",
   "execution_count": 18,
   "metadata": {},
   "outputs": [
    {
     "name": "stdout",
     "output_type": "stream",
     "text": [
      "Dataframe saved to C:\\Users\\jacob\\OneDrive\\Desktop\\Fall 2024\\Telling Stories\\housing_report\\report-data-2024\\exit_data.csv\n"
     ]
    }
   ],
   "source": [
    "import os\n",
    "\n",
    "# Define the path to save the CSV file in your repository\n",
    "repo_path = r'C:\\Users\\jacob\\OneDrive\\Desktop\\Fall 2024\\Telling Stories\\housing_report\\report-data-2024'  # Replace with the actual path to your repository\n",
    "file_name = 'exit_data.csv'\n",
    "file_path = os.path.join(repo_path, file_name)\n",
    "\n",
    "# Save the dataframe as a CSV file\n",
    "exit.to_csv(file_path, index=False)\n",
    "\n",
    "print(f'Dataframe saved to {file_path}')\n"
   ]
  },
  {
   "cell_type": "code",
   "execution_count": 25,
   "metadata": {},
   "outputs": [
    {
     "name": "stdout",
     "output_type": "stream",
     "text": [
      "ANOVA for Days to Destination: F-statistic = 1.26, p-value = 0.25370\n",
      "No significant differences found in Days to Destination across 'Entry/Exit Destination' groups.\n",
      "\n",
      "ANOVA for MAP Assessment Score: F-statistic = nan, p-value = nan\n",
      "No significant differences found in MAP Assessment Score across 'Entry/Exit Destination' groups.\n",
      "\n",
      "ANOVA for Total paid: F-statistic = 5.31, p-value = 0.00000\n",
      "Significant differences found in Total paid across 'Entry/Exit Destination' groups.\n",
      "\n"
     ]
    },
    {
     "name": "stderr",
     "output_type": "stream",
     "text": [
      "C:\\Users\\jacob\\AppData\\Local\\Temp\\ipykernel_5532\\3502120461.py:6: FutureWarning: The default of observed=False is deprecated and will be changed to True in a future version of pandas. Pass observed=False to retain current behavior or observed=True to adopt the future default and silence this warning.\n",
      "  grouped_data = exit.groupby('Entry/Exit Destination')\n",
      "c:\\Users\\jacob\\AppData\\Local\\Programs\\Python\\Python312\\Lib\\site-packages\\scipy\\stats\\_stats_py.py:4102: DegenerateDataWarning: at least one input has length 0\n",
      "  if _f_oneway_is_too_small(samples):\n"
     ]
    }
   ],
   "source": [
    "from scipy.stats import f_oneway\n",
    "\n",
    "\n",
    "# Focus on \"Entry/Exit Destination\" and numeric variables\n",
    "numeric_columns = ['Days to Destination', 'MAP Assessment Score', 'Total paid']\n",
    "grouped_data = exit.groupby('Entry/Exit Destination')\n",
    "\n",
    "# Perform ANOVA for each numeric column\n",
    "for col in numeric_columns:\n",
    "    groups = [group[col].dropna() for _, group in grouped_data]\n",
    "    f_stat, p_val = f_oneway(*groups)\n",
    "    print(f\"ANOVA for {col}: F-statistic = {f_stat:.2f}, p-value = {p_val:.5f}\")\n",
    "    if p_val < 0.05:\n",
    "        print(f\"Significant differences found in {col} across 'Entry/Exit Destination' groups.\\n\")\n",
    "    else:\n",
    "        print(f\"No significant differences found in {col} across 'Entry/Exit Destination' groups.\\n\")\n"
   ]
  }
 ],
 "metadata": {
  "kernelspec": {
   "display_name": "Python 3",
   "language": "python",
   "name": "python3"
  },
  "language_info": {
   "codemirror_mode": {
    "name": "ipython",
    "version": 3
   },
   "file_extension": ".py",
   "mimetype": "text/x-python",
   "name": "python",
   "nbconvert_exporter": "python",
   "pygments_lexer": "ipython3",
   "version": "3.12.2"
  }
 },
 "nbformat": 4,
 "nbformat_minor": 2
}
